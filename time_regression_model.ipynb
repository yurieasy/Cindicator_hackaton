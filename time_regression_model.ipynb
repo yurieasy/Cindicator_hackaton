{
 "cells": [
  {
   "cell_type": "code",
   "execution_count": 72,
   "metadata": {
    "collapsed": false
   },
   "outputs": [],
   "source": [
    "import pandas as pd\n",
    "import seaborn as sns\n",
    "from matplotlib import pyplot as plt\n",
    "\n",
    "import numpy as np\n",
    "%matplotlib inline\n",
    "\n",
    "import warnings\n",
    "warnings.simplefilter('ignore')\n",
    "\n",
    "import maya\n",
    "from datetime import timedelta\n",
    "\n",
    "from sklearn import linear_model\n",
    "\n",
    "plt.rcParams['figure.figsize'] = (15, 9)"
   ]
  },
  {
   "cell_type": "code",
   "execution_count": 4,
   "metadata": {
    "collapsed": false
   },
   "outputs": [],
   "source": [
    "df = pd.read_csv('pricing_answers.csv')"
   ]
  },
  {
   "cell_type": "code",
   "execution_count": 9,
   "metadata": {
    "collapsed": false
   },
   "outputs": [],
   "source": [
    "# add hours_left column\n",
    "\n",
    "def to_hours(td):\n",
    "    return round(td.total_seconds() / 3600)\n",
    "\n",
    "def calculate_hours_left(df):\n",
    "    \"\"\"returns: dataframe with added column which contains hours before end\"\"\"\n",
    "    df['hours_left'] = (df['event_finished_at'].apply(maya.parse).apply(maya.MayaDT.datetime) -\n",
    "                        df['answer_created_at'].apply(maya.parse).apply(maya.MayaDT.datetime)).apply(to_hours)\n",
    "    return df\n",
    "\n",
    "df = calculate_hours_left(df)\n",
    "df = df.sort_values('hours_left')"
   ]
  },
  {
   "cell_type": "code",
   "execution_count": 8,
   "metadata": {
    "collapsed": true
   },
   "outputs": [],
   "source": [
    "# filter out time travellers\n",
    "\n",
    "df = df[df['hours_left'] >= 0]"
   ]
  },
  {
   "cell_type": "code",
   "execution_count": 10,
   "metadata": {
    "collapsed": true
   },
   "outputs": [],
   "source": [
    "# pick one event to work with\n",
    "event_id = \"bf8aa2ad-4ecb-4e5c-bb9d-a9b095a1ccc6\"\n",
    "event = df.groupby('event_id').get_group(event_id)"
   ]
  },
  {
   "cell_type": "code",
   "execution_count": 32,
   "metadata": {
    "collapsed": true
   },
   "outputs": [],
   "source": [
    "# calculate baseline \n",
    "\n",
    "event['baseline_min'] = event['prediction_min'].mean()\n",
    "event['baseline_max'] = event['prediction_max'].mean()"
   ]
  },
  {
   "cell_type": "code",
   "execution_count": 33,
   "metadata": {
    "collapsed": false
   },
   "outputs": [],
   "source": [
    "# normalize data\n",
    "\n",
    "def norm_by(df, what_to, by):\n",
    "    by = df[by].copy()\n",
    "    for name in what_to:\n",
    "        df[name] = (df[name] - by.mean()) / (by.max() - by.min())\n",
    "    \n",
    "    return df\n",
    "\n",
    "norm_event_min = event[['prediction_min', 'real_min', 'hours_left']]\n",
    "norm_event_min = norm_by(norm_event_min, ['prediction_min', 'real_min'], 'prediction_min')\n",
    "\n",
    "norm_event_max = event[['prediction_max', 'real_max', 'hours_left']]\n",
    "norm_event_max = norm_by(norm_event_max, ['prediction_max', 'real_max'], 'prediction_max')"
   ]
  },
  {
   "cell_type": "code",
   "execution_count": 36,
   "metadata": {
    "collapsed": false
   },
   "outputs": [],
   "source": [
    "# plot linear regression on prediction by hours left\n",
    "\n",
    "def get_regression(event, to_fit, column_name):\n",
    "    regr = linear_model.LinearRegression()\n",
    "\n",
    "    hours_reshaped = event.hours_left.reshape(len(event.hours_left), 1)\n",
    "\n",
    "    regr.fit(hours_reshaped, event[to_fit])\n",
    "\n",
    "    y = event.hours_left * regr.coef_ + regr.intercept_\n",
    "\n",
    "    event[column_name] = y\n",
    "    \n",
    "    return event\n",
    "\n",
    "norm_event_min = get_regression(norm_event_min, 'prediction_min', 'regression_min')\n",
    "norm_event_max = get_regression(norm_event_max, 'prediction_max', 'regression_max')"
   ]
  },
  {
   "cell_type": "code",
   "execution_count": 40,
   "metadata": {
    "collapsed": false
   },
   "outputs": [],
   "source": [
    "# assign weights based on regression\n",
    "\n",
    "def get_weights_min(event):\n",
    "    event['weight_min'] = 1 - (event['regression_min'] - event['real_min']) ** 2\n",
    "    return event\n",
    "\n",
    "def get_weights_max(event):\n",
    "    event['weight_max'] = 1 - (event['regression_max'] - event['real_max']) ** 2\n",
    "    return event\n",
    "\n",
    "norm_event_min = get_weights_min(norm_event_min)\n",
    "event['weight_min'] = norm_event_min['weight_min']\n",
    "\n",
    "norm_event_max = get_weights_max(norm_event_max)\n",
    "event['weight_max'] = norm_event_max['weight_max']"
   ]
  },
  {
   "cell_type": "code",
   "execution_count": 41,
   "metadata": {
    "collapsed": false
   },
   "outputs": [],
   "source": [
    "# calculate weigthed average \n",
    "\n",
    "def weighted_average(event, weight, value):\n",
    "    return (event[value] * event[weight]).sum() / event[weight].sum()\n",
    "\n",
    "event['weighted_min'] = weighted_average(event, 'weight_min', 'prediction_min')\n",
    "event['weighted_max'] = weighted_average(event, 'weight_max', 'prediction_max')"
   ]
  },
  {
   "cell_type": "code",
   "execution_count": 31,
   "metadata": {
    "collapsed": false
   },
   "outputs": [
    {
     "name": "stdout",
     "output_type": "stream",
     "text": [
      "2245.69\n",
      "2245.9377525\n",
      "2257.25\n"
     ]
    }
   ],
   "source": [
    "print(event['baseline_min'].mean())\n",
    "print(event['weighted_min'].mean())\n",
    "print(event['real_min'].mean())"
   ]
  },
  {
   "cell_type": "code",
   "execution_count": 68,
   "metadata": {
    "collapsed": false
   },
   "outputs": [
    {
     "name": "stdout",
     "output_type": "stream",
     "text": [
      "Empty DataFrame\n",
      "Columns: []\n",
      "Index: []\n"
     ]
    }
   ],
   "source": [
    "from visualise import plot_ticker\n",
    "\n",
    "# make predictions for every event in ticker\n",
    "ticker_id = \"c5e2ca55-3606-40ad-aae5-55be180a7de5\"\n",
    "ticker = df.groupby('ticker_id').get_group(ticker_id)\n",
    "\n",
    "\n",
    "def predict(event):\n",
    "    \"\"\"add a column with prediction\"\"\"\n",
    "    event['baseline_min'] = event['prediction_min'].mean()\n",
    "    event['baseline_max'] = event['prediction_max'].mean()\n",
    "    norm_event_min = event[['prediction_min', 'real_min', 'hours_left']]\n",
    "    norm_event_min = norm_by(norm_event_min, ['prediction_min', 'real_min'], 'prediction_min')\n",
    "\n",
    "    norm_event_max = event[['prediction_max', 'real_max', 'hours_left']]\n",
    "    norm_event_max = norm_by(norm_event_max, ['prediction_max', 'real_max'], 'prediction_max')\n",
    "    \n",
    "    norm_event_min = get_regression(norm_event_min, 'prediction_min', 'regression_min')\n",
    "    norm_event_max = get_regression(norm_event_max, 'prediction_max', 'regression_max')\n",
    "    \n",
    "    norm_event_min = get_weights_min(norm_event_min)\n",
    "    event['weight_min'] = norm_event_min['weight_min']\n",
    "\n",
    "    norm_event_max = get_weights_max(norm_event_max)\n",
    "    event['weight_max'] = norm_event_max['weight_max']\n",
    "    \n",
    "    event['weighted_min'] = weighted_average(event, 'weight_min', 'prediction_min')\n",
    "    event['weighted_max'] = weighted_average(event, 'weight_max', 'prediction_max')\n",
    "\n",
    "    # copying columns with different names for plotting\n",
    "    event['y_baseline_min'] = event['baseline_min']\n",
    "    event['y_baseline_max'] = event['baseline_max']\n",
    "\n",
    "    event['y_weighted_min'] = event['weighted_min']\n",
    "    event['y_weighted_max'] = event['weighted_max']\n",
    "\n",
    "    event['y_true_min'] = event.real_min\n",
    "    event['y_true_max'] = event.real_max\n",
    "    \n",
    "    event['event_finished_at'] = event.event_finished_at\n",
    "    \n",
    "    # print(event)\n",
    "    \n",
    "    return event\n",
    "    \n",
    "    \n",
    "predicted = pd.DataFrame()\n",
    "frames = []\n",
    "print(predicted)\n",
    "for _, event in ticker.groupby('event_id'):\n",
    "    frames.append(predict(event))\n",
    "    \n",
    "predicted = pd.concat(frames)"
   ]
  },
  {
   "cell_type": "code",
   "execution_count": 73,
   "metadata": {
    "collapsed": false
   },
   "outputs": [
    {
     "data": {
      "image/png": "[encoded data removed]",
      "text/plain": [
       "<matplotlib.figure.Figure at 0x7f2d813e3b00>"
      ]
     },
     "metadata": {},
     "output_type": "display_data"
    }
   ],
   "source": [
    "plot_ticker(predicted)"
   ]
  }
 ],
 "metadata": {
  "kernelspec": {
   "display_name": "Python 3",
   "language": "python",
   "name": "python3"
  },
  "language_info": {
   "codemirror_mode": {
    "name": "ipython",
    "version": 3.0
   },
   "file_extension": ".py",
   "mimetype": "text/x-python",
   "name": "python",
   "nbconvert_exporter": "python",
   "pygments_lexer": "ipython3",
   "version": "3.5.2"
  }
 },
 "nbformat": 4,
 "nbformat_minor": 0
}